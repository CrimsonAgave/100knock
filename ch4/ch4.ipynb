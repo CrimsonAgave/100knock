{
 "cells": [
  {
   "cell_type": "code",
   "execution_count": 4,
   "metadata": {},
   "outputs": [
    {
     "name": "stdout",
     "output_type": "stream",
     "text": [
      "{'surface': '一', 'base': '一', 'pos': '名詞', 'pos1': '数'}\n"
     ]
    }
   ],
   "source": [
    "# 30\n",
    "# 解析結果の読み込み\n",
    "\n",
    "import re\n",
    "\n",
    "\n",
    "with open(\"neko.txt.mecab\", \"r\", encoding=\"utf-8\") as f:\n",
    "    lines = f.readlines()\n",
    "\n",
    "morfemes = []\n",
    "for line in lines:\n",
    "    if(\"EOS\" in line):\n",
    "        pass\n",
    "    else:\n",
    "        line_split = re.split(\"[\\t\\n,]\", line)\n",
    "        w_dict = {\"surface\": line_split[0], \"base\": line_split[7], \"pos\": line_split[1], \"pos1\": line_split[2]}\n",
    "        morfemes.append(w_dict)\n",
    "\n",
    "\n",
    "print(morfemes[0])"
   ]
  },
  {
   "cell_type": "code",
   "execution_count": 5,
   "metadata": {},
   "outputs": [
    {
     "name": "stdout",
     "output_type": "stream",
     "text": [
      "['生れ', 'つか', 'し', '泣い', 'し', 'いる', '始め', '見', '聞く', '捕え']\n"
     ]
    }
   ],
   "source": [
    "# 31\n",
    "# 動詞の基本形を抽出する\n",
    "\n",
    "verbs_surface = [morfeme[\"surface\"] for morfeme in morfemes if(morfeme[\"pos\"] == \"動詞\")]\n",
    "\n",
    "print(verbs_surface[0:10])"
   ]
  },
  {
   "cell_type": "code",
   "execution_count": 6,
   "metadata": {},
   "outputs": [
    {
     "name": "stdout",
     "output_type": "stream",
     "text": [
      "['生れる', 'つく', 'する', '泣く', 'する', 'いる', '始める', '見る', '聞く', '捕える']\n"
     ]
    }
   ],
   "source": [
    "# 32\n",
    "# 動詞の基本形をすべて抽出する\n",
    "\n",
    "verbs_surface = [morfeme[\"base\"] for morfeme in morfemes if(morfeme[\"pos\"] == \"動詞\")]\n",
    "\n",
    "print(verbs_surface[0:10])"
   ]
  },
  {
   "cell_type": "code",
   "execution_count": 7,
   "metadata": {},
   "outputs": [
    {
     "name": "stdout",
     "output_type": "stream",
     "text": [
      "['彼の掌', '掌の上', '書生の顔', 'ものの見', 'はずの顔', '顔の真中', '穴の中', '人間の飲む', '書生の掌', '掌の裏']\n"
     ]
    }
   ],
   "source": [
    "# 33\n",
    "# 「の」で連結されている名詞句を抽出する\n",
    "\n",
    "\n",
    "noun_phrase = [\n",
    "    morfemes[i-1][\"surface\"] + morfemes[i][\"surface\"] + morfemes[i+1][\"surface\"] \n",
    "    for i in range(len(morfemes)) \n",
    "    if(morfemes[i][\"surface\"] == \"の\" and morfemes[i][\"pos\"] == \"助詞\")\n",
    "    ]\n",
    "\n",
    "print(noun_phrase[0:10])"
   ]
  },
  {
   "cell_type": "code",
   "execution_count": 8,
   "metadata": {},
   "outputs": [
    {
     "name": "stdout",
     "output_type": "stream",
     "text": [
      "['人間中', '一番獰悪', '時妙', '一毛', 'その後猫', '一度', 'ぷうぷうと煙', '邸内', '三毛', '書生以外']\n"
     ]
    }
   ],
   "source": [
    "# 34\n",
    "# 名詞の連接を最長一致で抽出\n",
    "\n",
    "nouns = \"\"\n",
    "noun_chain = 0\n",
    "nouns_list = []\n",
    "for morfeme in morfemes:\n",
    "    if(morfeme[\"pos\"] == \"名詞\"):\n",
    "        nouns += morfeme[\"surface\"]\n",
    "        noun_chain += 1\n",
    "    else:\n",
    "        if(noun_chain >= 2):\n",
    "            nouns_list.append(nouns)\n",
    "        nouns = \"\"\n",
    "        noun_chain = 0\n",
    "\n",
    "print(nouns_list[0:10])"
   ]
  },
  {
   "cell_type": "code",
   "execution_count": 11,
   "metadata": {},
   "outputs": [
    {
     "name": "stdout",
     "output_type": "stream",
     "text": [
      "[('の助詞', 7583), ('。記号', 7486), ('て助詞', 6848), ('、記号', 6772), ('は助詞', 6420), ('に助詞', 6243), ('を助詞', 6071), ('だ助動詞', 5975), ('と助詞', 5505), ('が助詞', 5334)]\n"
     ]
    }
   ],
   "source": [
    "# 35\n",
    "# 単語とその出現頻度のペアを求め、出現頻度の高い順に並べる\n",
    "\n",
    "morfeme_freqs = {}\n",
    "for morfeme in morfemes:\n",
    "    word = morfeme[\"base\"] + morfeme[\"pos\"]\n",
    "    if(not word in morfeme_freqs):\n",
    "        morfeme_freqs[word] = 1\n",
    "    else:\n",
    "        morfeme_freqs[word] += 1\n",
    "\n",
    "sorted_morfeme_freqs = sorted(morfeme_freqs.items(), key=lambda x:x[1], reverse=True)\n",
    "print(sorted_morfeme_freqs[0:10])"
   ]
  },
  {
   "cell_type": "code",
   "execution_count": 19,
   "metadata": {},
   "outputs": [
    {
     "data": {
      "text/plain": [
       "<BarContainer object of 10 artists>"
      ]
     },
     "execution_count": 19,
     "metadata": {},
     "output_type": "execute_result"
    },
    {
     "data": {
      "image/png": "[encoded data removed]",
      "text/plain": [
       "<Figure size 432x288 with 1 Axes>"
      ]
     },
     "metadata": {
      "needs_background": "light"
     },
     "output_type": "display_data"
    }
   ],
   "source": [
    "# 36 \n",
    "# 単語の出現頻度をグラフで表示する\n",
    "\n",
    "import matplotlib.pyplot as plt\n",
    "import japanize_matplotlib\n",
    "\n",
    "x = [sorted_morfeme_freqs[i][0] for i in range(len(sorted_morfeme_freqs))]\n",
    "y = [sorted_morfeme_freqs[i][1] for i in range(len(sorted_morfeme_freqs))]\n",
    "\n",
    "plt.bar(x[0:10], y[0:10])"
   ]
  },
  {
   "cell_type": "code",
   "execution_count": 21,
   "metadata": {},
   "outputs": [
    {
     "data": {
      "text/plain": [
       "<BarContainer object of 10 artists>"
      ]
     },
     "execution_count": 21,
     "metadata": {},
     "output_type": "execute_result"
    },
    {
     "data": {
      "image/png": "[encoded data removed]",
      "text/plain": [
       "<Figure size 432x288 with 1 Axes>"
      ]
     },
     "metadata": {
      "needs_background": "light"
     },
     "output_type": "display_data"
    }
   ],
   "source": [
    "# 37\n",
    "# 「猫」と共起頻度の高い上位10語をグラフで表示\n",
    "\n",
    "import matplotlib.pyplot as plt\n",
    "import japanize_matplotlib\n",
    "import collections\n",
    "\n",
    "\n",
    "morfeme_freqs_neko = collections.Counter([])\n",
    "for i in range(len(morfemes)):\n",
    "    if(morfemes[i][\"base\"] == \"猫\"):\n",
    "        words = [morfemes[i-1][\"surface\"], morfemes[i+1][\"surface\"]]\n",
    "        morfeme_freqs_neko += collections.Counter(words)\n",
    "\n",
    "sorted_morfeme_freqs_neko = morfeme_freqs_neko.most_common()\n",
    "\n",
    "x = [sorted_morfeme_freqs_neko[i][0] for i in range(len(sorted_morfeme_freqs_neko))]\n",
    "y = [sorted_morfeme_freqs_neko[i][1] for i in range(len(sorted_morfeme_freqs_neko))]\n",
    "\n",
    "plt.bar(x[0:10], y[0:10])\n"
   ]
  },
  {
   "cell_type": "code",
   "execution_count": 41,
   "metadata": {},
   "outputs": [
    {
     "data": {
      "image/png": "[encoded data removed]",
      "text/plain": [
       "<Figure size 432x288 with 1 Axes>"
      ]
     },
     "metadata": {
      "needs_background": "light"
     },
     "output_type": "display_data"
    }
   ],
   "source": [
    "# 38 \n",
    "# 単語の出現頻度のヒストグラムを書く。ただし、横軸が出現頻度、縦軸が単語の種類数である\n",
    "\n",
    "import matplotlib.pyplot as plt\n",
    "\n",
    "y = [sorted_morfeme_freqs[i][1] for i in range(len(sorted_morfeme_freqs))]\n",
    "\n",
    "plt.hist(y, bins=100)"
   ]
  },
  {
   "cell_type": "code",
   "execution_count": 44,
   "metadata": {},
   "outputs": [
    {
     "data": {
      "text/plain": [
       "<matplotlib.collections.PathCollection at 0x15cbdda54c0>"
      ]
     },
     "execution_count": 44,
     "metadata": {},
     "output_type": "execute_result"
    },
    {
     "data": {
      "image/png": "[encoded data removed]",
      "text/plain": [
       "<Figure size 432x288 with 1 Axes>"
      ]
     },
     "metadata": {
      "needs_background": "light"
     },
     "output_type": "display_data"
    }
   ],
   "source": [
    "# 39\n",
    "# Zipfの法則: 単語の出現頻度順位を横軸、出現頻度を縦軸として、両対数グラフをプロットする\n",
    "\n",
    "import matplotlib.pyplot as plt\n",
    "\n",
    "y = [sorted_morfeme_freqs[i][1] for i in range(len(sorted_morfeme_freqs))]\n",
    "z = [i for i in range(len(sorted_morfeme_freqs))]\n",
    "\n",
    "plt.xscale(\"log\")\n",
    "plt.yscale(\"log\")\n",
    "plt.scatter(y, z)"
   ]
  }
 ],
 "metadata": {
  "kernelspec": {
   "display_name": "Python 3",
   "language": "python",
   "name": "python3"
  },
  "language_info": {
   "codemirror_mode": {
    "name": "ipython",
    "version": 3
   },
   "file_extension": ".py",
   "mimetype": "text/x-python",
   "name": "python",
   "nbconvert_exporter": "python",
   "pygments_lexer": "ipython3",
   "version": "3.8.2"
  },
  "orig_nbformat": 4
 },
 "nbformat": 4,
 "nbformat_minor": 2
}
