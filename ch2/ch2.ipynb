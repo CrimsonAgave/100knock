{
 "cells": [
  {
   "cell_type": "code",
   "execution_count": 1,
   "metadata": {},
   "outputs": [
    {
     "name": "stdout",
     "output_type": "stream",
     "text": [
      "12気温22.4\n"
     ]
    }
   ],
   "source": [
    "# 07\n",
    "# x, y, z を引数として受け取り、「x時のyはz」という文字列を返す関数を実装する\n",
    "\n",
    "def temp(x, y, z):\n",
    "    return str(x) + \"時の\" + str(y) + \"は\" + str(z)\n",
    "\n",
    "result = temp(12, \"気温\", 22.4)\n",
    "print(result)"
   ]
  }
 ],
 "metadata": {
  "kernelspec": {
   "display_name": "Python 3",
   "language": "python",
   "name": "python3"
  },
  "language_info": {
   "codemirror_mode": {
    "name": "ipython",
    "version": 3
   },
   "file_extension": ".py",
   "mimetype": "text/x-python",
   "name": "python",
   "nbconvert_exporter": "python",
   "pygments_lexer": "ipython3",
   "version": "3.8.2 (tags/v3.8.2:7b3ab59, Feb 25 2020, 23:03:10) [MSC v.1916 64 bit (AMD64)]"
  },
  "orig_nbformat": 4,
  "vscode": {
   "interpreter": {
    "hash": "2790b9310a930223f4d316af7336933ab376078410078d4517d2e40c9bbcc22e"
   }
  }
 },
 "nbformat": 4,
 "nbformat_minor": 2
}
